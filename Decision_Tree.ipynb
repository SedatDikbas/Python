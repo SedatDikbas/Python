{
  "nbformat": 4,
  "nbformat_minor": 0,
  "metadata": {
    "colab": {
      "provenance": [],
      "authorship_tag": "ABX9TyMLPW5rL6n5TXeOSmCICWHE",
      "include_colab_link": true
    },
    "kernelspec": {
      "name": "python3",
      "display_name": "Python 3"
    },
    "language_info": {
      "name": "python"
    }
  },
  "cells": [
    {
      "cell_type": "markdown",
      "metadata": {
        "id": "view-in-github",
        "colab_type": "text"
      },
      "source": [
        "<a href=\"https://colab.research.google.com/github/SedatDikbas/Python/blob/main/Decision_Tree.ipynb\" target=\"_parent\"><img src=\"https://colab.research.google.com/assets/colab-badge.svg\" alt=\"Open In Colab\"/></a>"
      ]
    },
    {
      "cell_type": "code",
      "execution_count": null,
      "metadata": {
        "colab": {
          "base_uri": "https://localhost:8080/"
        },
        "id": "7oHonqcVXBVX",
        "outputId": "796bb9e4-584b-4546-bcc6-0d319994cddf"
      },
      "outputs": [
        {
          "output_type": "stream",
          "name": "stdout",
          "text": [
            "     1  2  3  4  5  6  7  8  9  10  ...  17  18  19  20  21  22  23  Ay  Cins  \\\n",
            "0    0  0  0  0  0  0  0  0  0   1  ...   1   0   0   0   1   1   1  36     1   \n",
            "1    1  1  1  1  1  1  1  0  1   1  ...   1   0   1   1   0   1   1  36     0   \n",
            "2    1  0  1  1  0  1  1  1  1   1  ...   1   0   1   0   1   0   0  30     1   \n",
            "3    1  1  1  1  1  1  1  0  1   1  ...   1   0   1   1   0   0   1  28     1   \n",
            "4    1  1  1  1  0  1  1  1  1   1  ...   1   0   1   0   1   0   1  28     0   \n",
            "..  .. .. .. .. .. .. .. .. ..  ..  ...  ..  ..  ..  ..  ..  ..  ..  ..   ...   \n",
            "193  1  0  1  1  0  0  1  0  0   0  ...   1   1   0   1   1   1   0  28     0   \n",
            "194  1  1  0  1  0  0  0  1  1   1  ...   1   0   0   0   1   1   1  30     1   \n",
            "195  1  0  1  1  1  1  1  0  1   1  ...   1   1   1   0   1   1   0  23     1   \n",
            "196  1  1  1  1  1  1  1  1  1   0  ...   1   0   1   1   1   0   1  36     1   \n",
            "197  1  0  0  1  0  1  1  1  0   1  ...   1   0   0   0   0   0   0  33     1   \n",
            "\n",
            "     OSB  \n",
            "0      1  \n",
            "1      0  \n",
            "2      1  \n",
            "3      0  \n",
            "4      0  \n",
            "..   ...  \n",
            "193    1  \n",
            "194    1  \n",
            "195    0  \n",
            "196    1  \n",
            "197    1  \n",
            "\n",
            "[198 rows x 26 columns]\n",
            "Eğitim kümesi boyutu: 138\n",
            "Test kümesi boyutu: 60\n",
            "Doğruluk skoru: 0.825\n"
          ]
        }
      ],
      "source": [
        "import numpy as np\n",
        "import pandas as pd\n",
        "from sklearn.model_selection import train_test_split\n",
        "from sklearn.tree import DecisionTreeClassifier\n",
        "from sklearn.metrics import accuracy_score\n",
        "\n",
        "# Veri setini yükle veya oluştur\n",
        "data = pd.read_csv('OSB.csv')\n",
        "norm_data = np.array(data)\n",
        "np.random.shuffle(norm_data)\n",
        "# Sıralanmış numpy dizisini pandas veri çerçevesine dönüştürün\n",
        "full_data = pd.DataFrame(norm_data, columns=data.columns)\n",
        "\n",
        "# Karmaşık olarak sıralanmış verileri yazdırın\n",
        "print(full_data)\n",
        "\n",
        "# Sıralanmış numpy dizisini pandas veri çerçevesine dönüştürün\n",
        "dataset = pd.DataFrame(dataset, columns=data.columns)\n",
        "\n",
        "\n",
        "# Veri setinin özellikleri X ve hedef sınıfları y olarak varsayalım\n",
        "X=dataset.iloc[:,[0,1,2,3,4,5,6,7,8,9,10,11,12,13,14,15,16,17,18,19,20,21,22,23,24]].values\n",
        "y=dataset.iloc[:,25]\n",
        "\n",
        "# Veri setini eğitim ve test kümelerine ayır (%70 eğitim, %30 test)\n",
        "X_train, X_test, y_train, y_test = train_test_split(X, y, test_size=0.3, random_state=42)\n",
        "\n",
        "# Eğitim ve test kümelerinin boyutunu kontrol et\n",
        "print(\"Eğitim kümesi boyutu:\", len(X_train))\n",
        "print(\"Test kümesi boyutu:\", len(X_test))\n",
        "\n",
        "# Karmaşık olarak sıralanmış verileri yazdırın\n",
        "X_train, X_test, y_train, y_test = train_test_split(X, y, test_size=0.2, random_state=42)\n",
        "\n",
        "# Karar ağacı sınıflayıcısını oluştur\n",
        "clf = DecisionTreeClassifier()\n",
        "\n",
        "# Modeli eğit\n",
        "clf.fit(X_train, y_train)\n",
        "\n",
        "# Test verileri üzerinde tahmin yap\n",
        "y_pred = clf.predict(X_test)\n",
        "\n",
        "# Modelin doğruluk skorunu hesapla\n",
        "accuracy = accuracy_score(y_test, y_pred)\n",
        "print(\"Doğruluk skoru:\", accuracy)\n"
      ]
    },
    {
      "cell_type": "code",
      "source": [
        "from sklearn.tree import export_graphviz\n",
        "import graphviz\n",
        "\n",
        "# Karar ağacının yapısını export_graphviz fonksiyonuyla çıkar\n",
        "dot_data = export_graphviz(clf, out_file=None, feature_names=range(25), class_names=[\"Sınıf 0\", \"Sınıf 1\"], filled=True, rounded=True)\n",
        "\n",
        "# Graphviz ile dot verisini görselleştir\n",
        "graph = graphviz.Source(dot_data)\n",
        "\n",
        "# Grafiği ekrana bastır\n",
        "graph.view()\n",
        "\n",
        "print(y)"
      ],
      "metadata": {
        "colab": {
          "base_uri": "https://localhost:8080/",
          "height": 235
        },
        "id": "8SyC9NtdZV67",
        "outputId": "8e955de3-723b-4c69-def1-efd447c03773"
      },
      "execution_count": null,
      "outputs": [
        {
          "output_type": "error",
          "ename": "NameError",
          "evalue": "ignored",
          "traceback": [
            "\u001b[0;31m---------------------------------------------------------------------------\u001b[0m",
            "\u001b[0;31mNameError\u001b[0m                                 Traceback (most recent call last)",
            "\u001b[0;32m<ipython-input-1-74007f229a76>\u001b[0m in \u001b[0;36m<cell line: 5>\u001b[0;34m()\u001b[0m\n\u001b[1;32m      3\u001b[0m \u001b[0;34m\u001b[0m\u001b[0m\n\u001b[1;32m      4\u001b[0m \u001b[0;31m# Karar ağacının yapısını export_graphviz fonksiyonuyla çıkar\u001b[0m\u001b[0;34m\u001b[0m\u001b[0;34m\u001b[0m\u001b[0m\n\u001b[0;32m----> 5\u001b[0;31m \u001b[0mdot_data\u001b[0m \u001b[0;34m=\u001b[0m \u001b[0mexport_graphviz\u001b[0m\u001b[0;34m(\u001b[0m\u001b[0mclf\u001b[0m\u001b[0;34m,\u001b[0m \u001b[0mout_file\u001b[0m\u001b[0;34m=\u001b[0m\u001b[0;32mNone\u001b[0m\u001b[0;34m,\u001b[0m \u001b[0mfeature_names\u001b[0m\u001b[0;34m=\u001b[0m\u001b[0mrange\u001b[0m\u001b[0;34m(\u001b[0m\u001b[0;36m25\u001b[0m\u001b[0;34m)\u001b[0m\u001b[0;34m,\u001b[0m \u001b[0mclass_names\u001b[0m\u001b[0;34m=\u001b[0m\u001b[0;34m[\u001b[0m\u001b[0;34m\"Sınıf 0\"\u001b[0m\u001b[0;34m,\u001b[0m \u001b[0;34m\"Sınıf 1\"\u001b[0m\u001b[0;34m]\u001b[0m\u001b[0;34m,\u001b[0m \u001b[0mfilled\u001b[0m\u001b[0;34m=\u001b[0m\u001b[0;32mTrue\u001b[0m\u001b[0;34m,\u001b[0m \u001b[0mrounded\u001b[0m\u001b[0;34m=\u001b[0m\u001b[0;32mTrue\u001b[0m\u001b[0;34m)\u001b[0m\u001b[0;34m\u001b[0m\u001b[0;34m\u001b[0m\u001b[0m\n\u001b[0m\u001b[1;32m      6\u001b[0m \u001b[0;34m\u001b[0m\u001b[0m\n\u001b[1;32m      7\u001b[0m \u001b[0;31m# Graphviz ile dot verisini görselleştir\u001b[0m\u001b[0;34m\u001b[0m\u001b[0;34m\u001b[0m\u001b[0m\n",
            "\u001b[0;31mNameError\u001b[0m: name 'clf' is not defined"
          ]
        }
      ]
    }
  ]
}